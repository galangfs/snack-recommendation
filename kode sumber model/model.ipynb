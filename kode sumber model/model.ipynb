{
 "cells": [
  {
   "cell_type": "markdown",
   "metadata": {
    "id": "Y4d0PI3-lVOH"
   },
   "source": [
    "##  **Import Library dan data Preprocessing**\n",
    "\n",
    "\n"
   ]
  },
  {
   "cell_type": "code",
   "execution_count": 4,
   "metadata": {
    "_cell_guid": "b1076dfc-b9ad-4769-8c92-a6c4dae69d19",
    "_uuid": "8f2839f25d086af736a60e9eeb907d3b93b6e0e5",
    "colab": {
     "base_uri": "https://localhost:8080/"
    },
    "id": "My-jHSsX6DbC",
    "outputId": "7ef2bc10-79dd-4516-e784-467dacaa2c42"
   },
   "outputs": [
    {
     "name": "stdout",
     "output_type": "stream",
     "text": [
      "Tidak memakai GPU\n",
      "Versi Tensorflow: 2.7.0\n"
     ]
    }
   ],
   "source": [
    "import numpy as np\n",
    "import pandas as pd\n",
    "import matplotlib.pyplot as plt\n",
    "import seaborn as sb\n",
    "\n",
    "# import streamlit as st\n",
    "\n",
    "from itertools import chain\n",
    "from sklearn.model_selection import train_test_split\n",
    "from numba import jit \n",
    "from keras.initializers import RandomNormal\n",
    "from keras.models import Model\n",
    "from keras.layers import Embedding, Input, Dense, Concatenate, Multiply, Flatten\n",
    "from tensorflow.keras.optimizers import Adam\n",
    "import tensorflow as tf\n",
    "if tf.test.gpu_device_name():\n",
    "    print('Default Perangkat GPU: {}'.format(tf.test.gpu_device_name()))\n",
    "else:\n",
    "    print(\"Tidak memakai GPU\")\n",
    "    \n",
    "print(\"Versi Tensorflow: {}\".format(tf.__version__))"
   ]
  },
  {
   "cell_type": "markdown",
   "metadata": {
    "id": "0qVjGl5w6DbJ"
   },
   "source": [
    "## **Content-based feature engineering**"
   ]
  },
  {
   "cell_type": "code",
   "execution_count": 5,
   "metadata": {
    "colab": {
     "base_uri": "https://localhost:8080/",
     "height": 363
    },
    "id": "34VAsnoj6DbK",
    "outputId": "de1c50e0-6e45-4aa3-b2fa-359ed82bec3d"
   },
   "outputs": [
    {
     "data": {
      "text/html": [
       "<div>\n",
       "<style scoped>\n",
       "    .dataframe tbody tr th:only-of-type {\n",
       "        vertical-align: middle;\n",
       "    }\n",
       "\n",
       "    .dataframe tbody tr th {\n",
       "        vertical-align: top;\n",
       "    }\n",
       "\n",
       "    .dataframe thead th {\n",
       "        text-align: right;\n",
       "    }\n",
       "</style>\n",
       "<table border=\"1\" class=\"dataframe\">\n",
       "  <thead>\n",
       "    <tr style=\"text-align: right;\">\n",
       "      <th></th>\n",
       "      <th>food_id</th>\n",
       "      <th>food_name</th>\n",
       "      <th>type_of_food</th>\n",
       "      <th>food_genre</th>\n",
       "    </tr>\n",
       "  </thead>\n",
       "  <tbody>\n",
       "    <tr>\n",
       "      <th>0</th>\n",
       "      <td>32281</td>\n",
       "      <td>Strawberry and orange muffins</td>\n",
       "      <td>Cakes</td>\n",
       "      <td>vegan,healthy</td>\n",
       "    </tr>\n",
       "    <tr>\n",
       "      <th>1</th>\n",
       "      <td>5114</td>\n",
       "      <td>Garlic and aubergine bread</td>\n",
       "      <td>Bread Products</td>\n",
       "      <td>vegan</td>\n",
       "    </tr>\n",
       "    <tr>\n",
       "      <th>2</th>\n",
       "      <td>28977</td>\n",
       "      <td>Avocado and cucumber panini</td>\n",
       "      <td>Bread Products</td>\n",
       "      <td>vegan,healthy</td>\n",
       "    </tr>\n",
       "    <tr>\n",
       "      <th>3</th>\n",
       "      <td>9253</td>\n",
       "      <td>Peppercorn and chilli gyoza</td>\n",
       "      <td>International</td>\n",
       "      <td>vegan</td>\n",
       "    </tr>\n",
       "    <tr>\n",
       "      <th>4</th>\n",
       "      <td>9969</td>\n",
       "      <td>Courgette and prune buns</td>\n",
       "      <td>Bread Products</td>\n",
       "      <td>vegan</td>\n",
       "    </tr>\n",
       "    <tr>\n",
       "      <th>5</th>\n",
       "      <td>32935</td>\n",
       "      <td>Kiwi fruit sorbet with black pepper sauce</td>\n",
       "      <td>Yogurt</td>\n",
       "      <td>vegan,healthy</td>\n",
       "    </tr>\n",
       "    <tr>\n",
       "      <th>6</th>\n",
       "      <td>11061</td>\n",
       "      <td>Black pepper and tahini bagel</td>\n",
       "      <td>Bread Products</td>\n",
       "      <td>vegan</td>\n",
       "    </tr>\n",
       "    <tr>\n",
       "      <th>7</th>\n",
       "      <td>820</td>\n",
       "      <td>Lemon and cardamom biscuits</td>\n",
       "      <td>Cookies/Biscuits</td>\n",
       "      <td>vegan</td>\n",
       "    </tr>\n",
       "    <tr>\n",
       "      <th>8</th>\n",
       "      <td>15335</td>\n",
       "      <td>Strawberry and thyme vegancrepes</td>\n",
       "      <td>Crepes</td>\n",
       "      <td>vegan</td>\n",
       "    </tr>\n",
       "    <tr>\n",
       "      <th>9</th>\n",
       "      <td>15417</td>\n",
       "      <td>Spinach and squash gyoza</td>\n",
       "      <td>International</td>\n",
       "      <td>vegan</td>\n",
       "    </tr>\n",
       "  </tbody>\n",
       "</table>\n",
       "</div>"
      ],
      "text/plain": [
       "   food_id                                  food_name      type_of_food  \\\n",
       "0    32281              Strawberry and orange muffins             Cakes   \n",
       "1     5114                 Garlic and aubergine bread    Bread Products   \n",
       "2    28977                Avocado and cucumber panini    Bread Products   \n",
       "3     9253                Peppercorn and chilli gyoza    International    \n",
       "4     9969                   Courgette and prune buns    Bread Products   \n",
       "5    32935  Kiwi fruit sorbet with black pepper sauce           Yogurt    \n",
       "6    11061              Black pepper and tahini bagel    Bread Products   \n",
       "7      820                Lemon and cardamom biscuits  Cookies/Biscuits   \n",
       "8    15335           Strawberry and thyme vegancrepes            Crepes   \n",
       "9    15417                   Spinach and squash gyoza    International    \n",
       "\n",
       "      food_genre  \n",
       "0  vegan,healthy  \n",
       "1          vegan  \n",
       "2  vegan,healthy  \n",
       "3          vegan  \n",
       "4          vegan  \n",
       "5  vegan,healthy  \n",
       "6          vegan  \n",
       "7          vegan  \n",
       "8          vegan  \n",
       "9          vegan  "
      ]
     },
     "execution_count": 5,
     "metadata": {},
     "output_type": "execute_result"
    }
   ],
   "source": [
    "snack_df = pd.read_csv(\"../snacks_data.csv\")\n",
    "snack_df.head(10)"
   ]
  },
  {
   "cell_type": "code",
   "execution_count": 6,
   "metadata": {
    "colab": {
     "base_uri": "https://localhost:8080/"
    },
    "id": "lH2lyuWs6DbM",
    "outputId": "699c3339-f1a9-44ab-dfce-1d226b9b46d7"
   },
   "outputs": [
    {
     "name": "stdout",
     "output_type": "stream",
     "text": [
      "<class 'pandas.core.frame.DataFrame'>\n",
      "RangeIndex: 12294 entries, 0 to 12293\n",
      "Data columns (total 4 columns):\n",
      " #   Column        Non-Null Count  Dtype \n",
      "---  ------        --------------  ----- \n",
      " 0   food_id       12294 non-null  int64 \n",
      " 1   food_name     12294 non-null  object\n",
      " 2   type_of_food  12294 non-null  object\n",
      " 3   food_genre    12294 non-null  object\n",
      "dtypes: int64(1), object(3)\n",
      "memory usage: 384.3+ KB\n"
     ]
    }
   ],
   "source": [
    "snack_df.info()"
   ]
  },
  {
   "cell_type": "code",
   "execution_count": 7,
   "metadata": {
    "colab": {
     "base_uri": "https://localhost:8080/"
    },
    "id": "59oIr0-k6DbL",
    "outputId": "6745bd39-d6f5-4b32-8ec4-d6c5072db5bd"
   },
   "outputs": [
    {
     "data": {
      "text/plain": [
       "(12294, 4)"
      ]
     },
     "execution_count": 7,
     "metadata": {},
     "output_type": "execute_result"
    }
   ],
   "source": [
    "#shape of the dataset\n",
    "snack_df.shape"
   ]
  },
  {
   "cell_type": "code",
   "execution_count": 8,
   "metadata": {
    "colab": {
     "base_uri": "https://localhost:8080/"
    },
    "id": "Lo8gt7bL6DbN",
    "outputId": "d6538ffe-f5d2-48df-ec81-e5c26a40db42"
   },
   "outputs": [
    {
     "data": {
      "text/plain": [
       "Index(['food_id', 'food_name', 'type_of_food', 'food_genre'], dtype='object')"
      ]
     },
     "execution_count": 8,
     "metadata": {},
     "output_type": "execute_result"
    }
   ],
   "source": [
    "snack_df.columns"
   ]
  },
  {
   "cell_type": "code",
   "execution_count": 9,
   "metadata": {
    "colab": {
     "base_uri": "https://localhost:8080/"
    },
    "id": "J8wXS5Y_6DbO",
    "outputId": "41954392-d619-4d41-9939-b951ba429442"
   },
   "outputs": [
    {
     "data": {
      "text/plain": [
       "array(['Cakes', 'Bread Products', 'International ', 'Yogurt ',\n",
       "       'Cookies/Biscuits', 'Crepes', 'Jams', 'Candy', 'Chips',\n",
       "       'Chocolates', 'Protien Bars', 'Energy Bars'], dtype=object)"
      ]
     },
     "execution_count": 9,
     "metadata": {},
     "output_type": "execute_result"
    }
   ],
   "source": [
    "snack_df['type_of_food'].unique()"
   ]
  },
  {
   "cell_type": "code",
   "execution_count": 10,
   "metadata": {
    "id": "D9HwTS9u6DbP"
   },
   "outputs": [],
   "source": [
    "type_initial = snack_df['type_of_food'].map(lambda x: x.split(',')).values.tolist()\n",
    "all_food_types = list(set(chain(*type_initial)))\n",
    "#all_food_types"
   ]
  },
  {
   "cell_type": "code",
   "execution_count": 11,
   "metadata": {
    "colab": {
     "base_uri": "https://localhost:8080/"
    },
    "id": "lKE9QC-Y6DbP",
    "outputId": "70eb7f39-c838-47e5-ea6e-c2f64316f6a5"
   },
   "outputs": [
    {
     "data": {
      "text/plain": [
       "array(['Strawberry and orange muffins', 'Garlic and aubergine bread',\n",
       "       'Avocado and cucumber panini', ..., 'Stephens, Griffith and Jones',\n",
       "       'Kidd PLC', 'Holland PLC'], dtype=object)"
      ]
     },
     "execution_count": 11,
     "metadata": {},
     "output_type": "execute_result"
    }
   ],
   "source": [
    "snack_df['food_name'].unique()"
   ]
  },
  {
   "cell_type": "code",
   "execution_count": 12,
   "metadata": {
    "id": "qtgTsoR76DbQ"
   },
   "outputs": [],
   "source": [
    "#all_food_genres\n",
    "genre_initial = snack_df['food_genre'].map(lambda x: x.replace(\" \", \"\").split(',')).values.tolist()\n",
    "all_food_genres = list(set(chain(*genre_initial)))\n"
   ]
  },
  {
   "cell_type": "code",
   "execution_count": 13,
   "metadata": {
    "colab": {
     "base_uri": "https://localhost:8080/"
    },
    "id": "kn3PmV7W6DbQ",
    "outputId": "03df0d1a-65a4-4852-a03b-b1378010882f"
   },
   "outputs": [
    {
     "data": {
      "text/plain": [
       "{'almonds': 0,\n",
       " 'artificialflavours': 1,\n",
       " 'baked': 2,\n",
       " 'bitter': 3,\n",
       " 'caramel': 4,\n",
       " 'cheese': 5,\n",
       " 'chocolate': 6,\n",
       " 'darkchocolate': 7,\n",
       " 'extradark': 8,\n",
       " 'fried': 9,\n",
       " 'frozenfood': 10,\n",
       " 'fruitflavours': 11,\n",
       " 'glutenfree': 12,\n",
       " 'healthy': 13,\n",
       " 'nonvegetarian': 14,\n",
       " 'salty': 15,\n",
       " 'spicy': 16,\n",
       " 'sweet': 17,\n",
       " 'vegan': 18,\n",
       " 'vegetarian': 19,\n",
       " 'waffer': 20}"
      ]
     },
     "execution_count": 13,
     "metadata": {},
     "output_type": "execute_result"
    }
   ],
   "source": [
    "def invert_dict(d):\n",
    "    return {value: key for key, value in d.items()}\n",
    "\n",
    "all_food_genres = sorted(list(all_food_genres)) #Mengonversi menjadi list agar dapat diurutkan berdasarkan abjad\n",
    "ngenres = len(all_food_genres)\n",
    "\n",
    "idx2genre = dict(enumerate(all_food_genres)) # Membuat Dictionary pemetaan dari indeks ke dict\n",
    "genre2idx = invert_dict(idx2genre) # Inverse dict\n",
    "\n",
    "genre2idx"
   ]
  },
  {
   "cell_type": "code",
   "execution_count": 14,
   "metadata": {
    "colab": {
     "base_uri": "https://localhost:8080/"
    },
    "id": "xRSmM6Yk6DbQ",
    "outputId": "4ec4ab83-008c-4e36-ce3e-5917f8905787"
   },
   "outputs": [
    {
     "data": {
      "text/plain": [
       "{'Bread Products': 0,\n",
       " 'Cakes': 1,\n",
       " 'Candy': 2,\n",
       " 'Chips': 3,\n",
       " 'Chocolates': 4,\n",
       " 'Cookies/Biscuits': 5,\n",
       " 'Crepes': 6,\n",
       " 'Energy Bars': 7,\n",
       " 'International ': 8,\n",
       " 'Jams': 9,\n",
       " 'Protien Bars': 10,\n",
       " 'Yogurt ': 11}"
      ]
     },
     "execution_count": 14,
     "metadata": {},
     "output_type": "execute_result"
    }
   ],
   "source": [
    "all_food_types = sorted(list(all_food_types)) # Mengkonversi menjadi list agar dapat diurutkan berdasarkan abjad\n",
    "ntypes = len(all_food_types)\n",
    "\n",
    "idx2type = dict(enumerate(all_food_types)) # Membuat Dictionary pemetaan dari indeks ke dict\n",
    "type2idx = invert_dict(idx2type) # Inverse dict\n",
    "\n",
    "type2idx"
   ]
  },
  {
   "cell_type": "code",
   "execution_count": 15,
   "metadata": {
    "colab": {
     "base_uri": "https://localhost:8080/"
    },
    "id": "6XaUeqCD6DbR",
    "outputId": "8052c2a9-c5b5-4cdf-b9f4-5911fec9a9b9"
   },
   "outputs": [
    {
     "data": {
      "text/plain": [
       "0                                         [vegan, healthy]\n",
       "1                                                  [vegan]\n",
       "2                                         [vegan, healthy]\n",
       "3                                                  [vegan]\n",
       "4                                                  [vegan]\n",
       "                               ...                        \n",
       "12289    [vegetarian, sweet, artificialflavours, gluten...\n",
       "12290              [vegetarian, sweet, artificialflavours]\n",
       "12291              [vegetarian, sweet, artificialflavours]\n",
       "12292    [vegetarian, sweet, artificialflavours, gluten...\n",
       "12293              [vegetarian, sweet, artificialflavours]\n",
       "Name: features_food_genre, Length: 12294, dtype: object"
      ]
     },
     "execution_count": 15,
     "metadata": {},
     "output_type": "execute_result"
    }
   ],
   "source": [
    "# Copy kolomnya\n",
    "snack_df['features_food_genre'] = snack_df['food_genre']\n",
    "\n",
    "# Mengubah None menjada string kosong\n",
    "snack_df['features_food_genre'] = snack_df['features_food_genre'].fillna('') \n",
    "\n",
    "# Memisah genres menjadi list string\n",
    "snack_df['features_food_genre'] = snack_df['features_food_genre'].map(lambda x: x.replace(\" \", \"\").split(','))\n",
    "\n",
    "snack_df['features_food_genre']"
   ]
  },
  {
   "cell_type": "code",
   "execution_count": 16,
   "metadata": {
    "colab": {
     "base_uri": "https://localhost:8080/"
    },
    "id": "ByeHFQj66DbR",
    "outputId": "2087c0d0-9b91-40c6-d52b-6df47e1d11f1"
   },
   "outputs": [
    {
     "data": {
      "text/plain": [
       "0        [0.0, 0.0, 0.0, 0.0, 0.0, 0.0, 0.0, 0.0, 0.0, ...\n",
       "1        [0.0, 0.0, 0.0, 0.0, 0.0, 0.0, 0.0, 0.0, 0.0, ...\n",
       "2        [0.0, 0.0, 0.0, 0.0, 0.0, 0.0, 0.0, 0.0, 0.0, ...\n",
       "3        [0.0, 0.0, 0.0, 0.0, 0.0, 0.0, 0.0, 0.0, 0.0, ...\n",
       "4        [0.0, 0.0, 0.0, 0.0, 0.0, 0.0, 0.0, 0.0, 0.0, ...\n",
       "                               ...                        \n",
       "12289    [0.0, 1.0, 0.0, 0.0, 0.0, 0.0, 0.0, 0.0, 0.0, ...\n",
       "12290    [0.0, 1.0, 0.0, 0.0, 0.0, 0.0, 0.0, 0.0, 0.0, ...\n",
       "12291    [0.0, 1.0, 0.0, 0.0, 0.0, 0.0, 0.0, 0.0, 0.0, ...\n",
       "12292    [0.0, 1.0, 0.0, 0.0, 0.0, 0.0, 0.0, 0.0, 0.0, ...\n",
       "12293    [0.0, 1.0, 0.0, 0.0, 0.0, 0.0, 0.0, 0.0, 0.0, ...\n",
       "Name: features_food_genre, Length: 12294, dtype: object"
      ]
     },
     "execution_count": 16,
     "metadata": {},
     "output_type": "execute_result"
    }
   ],
   "source": [
    "#Encode genres food\n",
    "def encode_genres(genres):\n",
    "    out = np.zeros(ngenres)\n",
    "    for genre in genres:\n",
    "        if genre == '':\n",
    "            pass\n",
    "        else:\n",
    "            out[genre2idx[genre]] = 1\n",
    "    return out.tolist()\n",
    "\n",
    "snack_df['features_food_genre'] = snack_df['features_food_genre'].map(encode_genres)\n",
    "snack_df['features_food_genre'] "
   ]
  },
  {
   "cell_type": "code",
   "execution_count": 17,
   "metadata": {
    "colab": {
     "base_uri": "https://localhost:8080/"
    },
    "id": "zWnJnzD_6DbS",
    "outputId": "c4bb8416-a476-427b-fc80-e4f0055ab2ad"
   },
   "outputs": [
    {
     "data": {
      "text/plain": [
       "0                 [Cakes]\n",
       "1        [Bread Products]\n",
       "2        [Bread Products]\n",
       "3        [International ]\n",
       "4        [Bread Products]\n",
       "               ...       \n",
       "12289             [Candy]\n",
       "12290             [Candy]\n",
       "12291             [Candy]\n",
       "12292             [Candy]\n",
       "12293             [Candy]\n",
       "Name: features_food_type, Length: 12294, dtype: object"
      ]
     },
     "execution_count": 17,
     "metadata": {},
     "output_type": "execute_result"
    }
   ],
   "source": [
    "# Kopi kolomnya\n",
    "snack_df['features_food_type'] = snack_df['type_of_food']\n",
    "\n",
    "# Mengubah None menjadi string kosong\n",
    "snack_df['features_food_type'] = snack_df['features_food_type'].fillna('') \n",
    "\n",
    "# Memisah genres menjadi list string\n",
    "snack_df['features_food_type'] = snack_df['features_food_type'].map(lambda x: x.split(','))\n",
    "\n",
    "snack_df['features_food_type']"
   ]
  },
  {
   "cell_type": "code",
   "execution_count": 18,
   "metadata": {
    "colab": {
     "base_uri": "https://localhost:8080/"
    },
    "id": "f9vMJSbK6DbS",
    "outputId": "7905c271-a730-4920-e9d3-2f4051fc8bff"
   },
   "outputs": [
    {
     "data": {
      "text/plain": [
       "0        [0.0, 1.0, 0.0, 0.0, 0.0, 0.0, 0.0, 0.0, 0.0, ...\n",
       "1        [1.0, 0.0, 0.0, 0.0, 0.0, 0.0, 0.0, 0.0, 0.0, ...\n",
       "2        [1.0, 0.0, 0.0, 0.0, 0.0, 0.0, 0.0, 0.0, 0.0, ...\n",
       "3        [0.0, 0.0, 0.0, 0.0, 0.0, 0.0, 0.0, 0.0, 1.0, ...\n",
       "4        [1.0, 0.0, 0.0, 0.0, 0.0, 0.0, 0.0, 0.0, 0.0, ...\n",
       "                               ...                        \n",
       "12289    [0.0, 0.0, 1.0, 0.0, 0.0, 0.0, 0.0, 0.0, 0.0, ...\n",
       "12290    [0.0, 0.0, 1.0, 0.0, 0.0, 0.0, 0.0, 0.0, 0.0, ...\n",
       "12291    [0.0, 0.0, 1.0, 0.0, 0.0, 0.0, 0.0, 0.0, 0.0, ...\n",
       "12292    [0.0, 0.0, 1.0, 0.0, 0.0, 0.0, 0.0, 0.0, 0.0, ...\n",
       "12293    [0.0, 0.0, 1.0, 0.0, 0.0, 0.0, 0.0, 0.0, 0.0, ...\n",
       "Name: features_food_type, Length: 12294, dtype: object"
      ]
     },
     "execution_count": 18,
     "metadata": {},
     "output_type": "execute_result"
    }
   ],
   "source": [
    "# Encode type food\n",
    "#@st.cache\n",
    "def encode_type(types):\n",
    "    out = np.zeros(ntypes)\n",
    "    for type in types:\n",
    "        if type == '':\n",
    "            pass\n",
    "        else:\n",
    "            out[type2idx[type]] = 1\n",
    "    return out.tolist()\n",
    "\n",
    "snack_df['features_food_type'] = snack_df['features_food_type'].map(encode_type)\n",
    "snack_df['features_food_type'] "
   ]
  },
  {
   "cell_type": "markdown",
   "metadata": {
    "id": "dg3Ss44EuFP-"
   },
   "source": [
    "\n",
    "## **Collaborative-filtering feature engineering**\n"
   ]
  },
  {
   "cell_type": "code",
   "execution_count": 19,
   "metadata": {
    "colab": {
     "base_uri": "https://localhost:8080/",
     "height": 363
    },
    "id": "dQ7HyVjz6DbT",
    "outputId": "4b91de38-1581-4807-e04a-d86e6d818e59"
   },
   "outputs": [
    {
     "data": {
      "text/html": [
       "<div>\n",
       "<style scoped>\n",
       "    .dataframe tbody tr th:only-of-type {\n",
       "        vertical-align: middle;\n",
       "    }\n",
       "\n",
       "    .dataframe tbody tr th {\n",
       "        vertical-align: top;\n",
       "    }\n",
       "\n",
       "    .dataframe thead th {\n",
       "        text-align: right;\n",
       "    }\n",
       "</style>\n",
       "<table border=\"1\" class=\"dataframe\">\n",
       "  <thead>\n",
       "    <tr style=\"text-align: right;\">\n",
       "      <th></th>\n",
       "      <th>user_id</th>\n",
       "      <th>food_id</th>\n",
       "      <th>rating</th>\n",
       "    </tr>\n",
       "  </thead>\n",
       "  <tbody>\n",
       "    <tr>\n",
       "      <th>0</th>\n",
       "      <td>8177</td>\n",
       "      <td>2890</td>\n",
       "      <td>8</td>\n",
       "    </tr>\n",
       "    <tr>\n",
       "      <th>1</th>\n",
       "      <td>2642</td>\n",
       "      <td>5277</td>\n",
       "      <td>8</td>\n",
       "    </tr>\n",
       "    <tr>\n",
       "      <th>2</th>\n",
       "      <td>1729</td>\n",
       "      <td>10321</td>\n",
       "      <td>-1</td>\n",
       "    </tr>\n",
       "    <tr>\n",
       "      <th>3</th>\n",
       "      <td>8382</td>\n",
       "      <td>228</td>\n",
       "      <td>7</td>\n",
       "    </tr>\n",
       "    <tr>\n",
       "      <th>4</th>\n",
       "      <td>8270</td>\n",
       "      <td>4038</td>\n",
       "      <td>9</td>\n",
       "    </tr>\n",
       "    <tr>\n",
       "      <th>5</th>\n",
       "      <td>3896</td>\n",
       "      <td>14345</td>\n",
       "      <td>5</td>\n",
       "    </tr>\n",
       "    <tr>\n",
       "      <th>6</th>\n",
       "      <td>6971</td>\n",
       "      <td>2926</td>\n",
       "      <td>8</td>\n",
       "    </tr>\n",
       "    <tr>\n",
       "      <th>7</th>\n",
       "      <td>8308</td>\n",
       "      <td>195</td>\n",
       "      <td>8</td>\n",
       "    </tr>\n",
       "    <tr>\n",
       "      <th>8</th>\n",
       "      <td>6237</td>\n",
       "      <td>264</td>\n",
       "      <td>8</td>\n",
       "    </tr>\n",
       "    <tr>\n",
       "      <th>9</th>\n",
       "      <td>661</td>\n",
       "      <td>13863</td>\n",
       "      <td>8</td>\n",
       "    </tr>\n",
       "  </tbody>\n",
       "</table>\n",
       "</div>"
      ],
      "text/plain": [
       "   user_id  food_id  rating\n",
       "0     8177     2890       8\n",
       "1     2642     5277       8\n",
       "2     1729    10321      -1\n",
       "3     8382      228       7\n",
       "4     8270     4038       9\n",
       "5     3896    14345       5\n",
       "6     6971     2926       8\n",
       "7     8308      195       8\n",
       "8     6237      264       8\n",
       "9      661    13863       8"
      ]
     },
     "execution_count": 19,
     "metadata": {},
     "output_type": "execute_result"
    }
   ],
   "source": [
    "# Cek struktur data\n",
    "rating = pd.read_csv(\"../rating_snacks.csv\")\n",
    "rating.head(10)"
   ]
  },
  {
   "cell_type": "code",
   "execution_count": 20,
   "metadata": {
    "colab": {
     "base_uri": "https://localhost:8080/"
    },
    "id": "qKlxGPbS6DbT",
    "outputId": "151788d0-dd46-4a4a-c105-5247e380dad2"
   },
   "outputs": [
    {
     "name": "stdout",
     "output_type": "stream",
     "text": [
      "<class 'pandas.core.frame.DataFrame'>\n",
      "RangeIndex: 1048575 entries, 0 to 1048574\n",
      "Data columns (total 3 columns):\n",
      " #   Column   Non-Null Count    Dtype\n",
      "---  ------   --------------    -----\n",
      " 0   user_id  1048575 non-null  int64\n",
      " 1   food_id  1048575 non-null  int64\n",
      " 2   rating   1048575 non-null  int64\n",
      "dtypes: int64(3)\n",
      "memory usage: 24.0 MB\n"
     ]
    }
   ],
   "source": [
    "rating.info()"
   ]
  },
  {
   "cell_type": "code",
   "execution_count": 21,
   "metadata": {
    "colab": {
     "base_uri": "https://localhost:8080/"
    },
    "id": "uR3YZXkV6DbT",
    "outputId": "83ba7100-01bb-450b-faa7-e03b15d98575"
   },
   "outputs": [
    {
     "data": {
      "text/plain": [
       "Index(['user_id', 'food_id', 'rating'], dtype='object')"
      ]
     },
     "execution_count": 21,
     "metadata": {},
     "output_type": "execute_result"
    }
   ],
   "source": [
    "rating.columns"
   ]
  },
  {
   "cell_type": "code",
   "execution_count": 22,
   "metadata": {
    "colab": {
     "base_uri": "https://localhost:8080/",
     "height": 424
    },
    "id": "yARBSVwI6DbT",
    "outputId": "9f270a08-d72e-4269-c33f-a87e0e98bb9b"
   },
   "outputs": [
    {
     "data": {
      "text/html": [
       "<div>\n",
       "<style scoped>\n",
       "    .dataframe tbody tr th:only-of-type {\n",
       "        vertical-align: middle;\n",
       "    }\n",
       "\n",
       "    .dataframe tbody tr th {\n",
       "        vertical-align: top;\n",
       "    }\n",
       "\n",
       "    .dataframe thead th {\n",
       "        text-align: right;\n",
       "    }\n",
       "</style>\n",
       "<table border=\"1\" class=\"dataframe\">\n",
       "  <thead>\n",
       "    <tr style=\"text-align: right;\">\n",
       "      <th></th>\n",
       "      <th>user_id</th>\n",
       "      <th>food_id</th>\n",
       "      <th>rating</th>\n",
       "    </tr>\n",
       "  </thead>\n",
       "  <tbody>\n",
       "    <tr>\n",
       "      <th>20694</th>\n",
       "      <td>1</td>\n",
       "      <td>3455</td>\n",
       "      <td>-1</td>\n",
       "    </tr>\n",
       "    <tr>\n",
       "      <th>30861</th>\n",
       "      <td>1</td>\n",
       "      <td>9062</td>\n",
       "      <td>-1</td>\n",
       "    </tr>\n",
       "    <tr>\n",
       "      <th>47570</th>\n",
       "      <td>1</td>\n",
       "      <td>30296</td>\n",
       "      <td>-1</td>\n",
       "    </tr>\n",
       "    <tr>\n",
       "      <th>48638</th>\n",
       "      <td>1</td>\n",
       "      <td>10209</td>\n",
       "      <td>-1</td>\n",
       "    </tr>\n",
       "    <tr>\n",
       "      <th>49994</th>\n",
       "      <td>1</td>\n",
       "      <td>11266</td>\n",
       "      <td>-1</td>\n",
       "    </tr>\n",
       "    <tr>\n",
       "      <th>...</th>\n",
       "      <td>...</td>\n",
       "      <td>...</td>\n",
       "      <td>...</td>\n",
       "    </tr>\n",
       "    <tr>\n",
       "      <th>1008795</th>\n",
       "      <td>1</td>\n",
       "      <td>1836</td>\n",
       "      <td>-1</td>\n",
       "    </tr>\n",
       "    <tr>\n",
       "      <th>1025254</th>\n",
       "      <td>1</td>\n",
       "      <td>9750</td>\n",
       "      <td>-1</td>\n",
       "    </tr>\n",
       "    <tr>\n",
       "      <th>1030415</th>\n",
       "      <td>1</td>\n",
       "      <td>936</td>\n",
       "      <td>-1</td>\n",
       "    </tr>\n",
       "    <tr>\n",
       "      <th>1044040</th>\n",
       "      <td>1</td>\n",
       "      <td>27899</td>\n",
       "      <td>-1</td>\n",
       "    </tr>\n",
       "    <tr>\n",
       "      <th>1047962</th>\n",
       "      <td>1</td>\n",
       "      <td>25099</td>\n",
       "      <td>-1</td>\n",
       "    </tr>\n",
       "  </tbody>\n",
       "</table>\n",
       "<p>153 rows × 3 columns</p>\n",
       "</div>"
      ],
      "text/plain": [
       "         user_id  food_id  rating\n",
       "20694          1     3455      -1\n",
       "30861          1     9062      -1\n",
       "47570          1    30296      -1\n",
       "48638          1    10209      -1\n",
       "49994          1    11266      -1\n",
       "...          ...      ...     ...\n",
       "1008795        1     1836      -1\n",
       "1025254        1     9750      -1\n",
       "1030415        1      936      -1\n",
       "1044040        1    27899      -1\n",
       "1047962        1    25099      -1\n",
       "\n",
       "[153 rows x 3 columns]"
      ]
     },
     "execution_count": 22,
     "metadata": {},
     "output_type": "execute_result"
    }
   ],
   "source": [
    "rating.loc[rating['user_id'] == 1]"
   ]
  },
  {
   "cell_type": "markdown",
   "metadata": {
    "id": "L9saw3jv6DbT"
   },
   "source": [
    "### Menurunkan jumlah users untuk eksplorasi & pelatihan yang lebih cepat\n"
   ]
  },
  {
   "cell_type": "code",
   "execution_count": 23,
   "metadata": {
    "id": "Kx7lhHtL6DbU"
   },
   "outputs": [],
   "source": [
    "rating = rating[rating['food_id'].isin(snack_df['food_id'])] "
   ]
  },
  {
   "cell_type": "code",
   "execution_count": 24,
   "metadata": {
    "colab": {
     "base_uri": "https://localhost:8080/",
     "height": 424
    },
    "id": "pqnUuNQQ6DbU",
    "outputId": "30420a68-5651-4424-ef3d-48664dc240f6"
   },
   "outputs": [
    {
     "data": {
      "text/html": [
       "<div>\n",
       "<style scoped>\n",
       "    .dataframe tbody tr th:only-of-type {\n",
       "        vertical-align: middle;\n",
       "    }\n",
       "\n",
       "    .dataframe tbody tr th {\n",
       "        vertical-align: top;\n",
       "    }\n",
       "\n",
       "    .dataframe thead th {\n",
       "        text-align: right;\n",
       "    }\n",
       "</style>\n",
       "<table border=\"1\" class=\"dataframe\">\n",
       "  <thead>\n",
       "    <tr style=\"text-align: right;\">\n",
       "      <th></th>\n",
       "      <th>user_id</th>\n",
       "      <th>food_id</th>\n",
       "      <th>rating</th>\n",
       "    </tr>\n",
       "  </thead>\n",
       "  <tbody>\n",
       "    <tr>\n",
       "      <th>0</th>\n",
       "      <td>8177</td>\n",
       "      <td>2890</td>\n",
       "      <td>8</td>\n",
       "    </tr>\n",
       "    <tr>\n",
       "      <th>1</th>\n",
       "      <td>2642</td>\n",
       "      <td>5277</td>\n",
       "      <td>8</td>\n",
       "    </tr>\n",
       "    <tr>\n",
       "      <th>2</th>\n",
       "      <td>1729</td>\n",
       "      <td>10321</td>\n",
       "      <td>-1</td>\n",
       "    </tr>\n",
       "    <tr>\n",
       "      <th>3</th>\n",
       "      <td>8382</td>\n",
       "      <td>228</td>\n",
       "      <td>7</td>\n",
       "    </tr>\n",
       "    <tr>\n",
       "      <th>4</th>\n",
       "      <td>8270</td>\n",
       "      <td>4038</td>\n",
       "      <td>9</td>\n",
       "    </tr>\n",
       "    <tr>\n",
       "      <th>...</th>\n",
       "      <td>...</td>\n",
       "      <td>...</td>\n",
       "      <td>...</td>\n",
       "    </tr>\n",
       "    <tr>\n",
       "      <th>1048570</th>\n",
       "      <td>2278</td>\n",
       "      <td>72</td>\n",
       "      <td>-1</td>\n",
       "    </tr>\n",
       "    <tr>\n",
       "      <th>1048571</th>\n",
       "      <td>8039</td>\n",
       "      <td>5258</td>\n",
       "      <td>10</td>\n",
       "    </tr>\n",
       "    <tr>\n",
       "      <th>1048572</th>\n",
       "      <td>7502</td>\n",
       "      <td>2866</td>\n",
       "      <td>3</td>\n",
       "    </tr>\n",
       "    <tr>\n",
       "      <th>1048573</th>\n",
       "      <td>7802</td>\n",
       "      <td>1117</td>\n",
       "      <td>4</td>\n",
       "    </tr>\n",
       "    <tr>\n",
       "      <th>1048574</th>\n",
       "      <td>12</td>\n",
       "      <td>2904</td>\n",
       "      <td>10</td>\n",
       "    </tr>\n",
       "  </tbody>\n",
       "</table>\n",
       "<p>1048575 rows × 3 columns</p>\n",
       "</div>"
      ],
      "text/plain": [
       "         user_id  food_id  rating\n",
       "0           8177     2890       8\n",
       "1           2642     5277       8\n",
       "2           1729    10321      -1\n",
       "3           8382      228       7\n",
       "4           8270     4038       9\n",
       "...          ...      ...     ...\n",
       "1048570     2278       72      -1\n",
       "1048571     8039     5258      10\n",
       "1048572     7502     2866       3\n",
       "1048573     7802     1117       4\n",
       "1048574       12     2904      10\n",
       "\n",
       "[1048575 rows x 3 columns]"
      ]
     },
     "execution_count": 24,
     "metadata": {},
     "output_type": "execute_result"
    }
   ],
   "source": [
    "rating"
   ]
  },
  {
   "cell_type": "code",
   "execution_count": 25,
   "metadata": {
    "colab": {
     "base_uri": "https://localhost:8080/",
     "height": 386
    },
    "id": "qstPKGQH6DbU",
    "outputId": "6d00f939-90a5-4b2b-f0a9-6d237a4e95e6"
   },
   "outputs": [
    {
     "name": "stderr",
     "output_type": "stream",
     "text": [
      "C:\\Users\\user\\AppData\\Local\\Packages\\PythonSoftwareFoundation.Python.3.8_qbz5n2kfra8p0\\LocalCache\\local-packages\\Python38\\site-packages\\seaborn\\distributions.py:2619: FutureWarning: `distplot` is a deprecated function and will be removed in a future version. Please adapt your code to use either `displot` (a figure-level function with similar flexibility) or `histplot` (an axes-level function for histograms).\n",
      "  warnings.warn(msg, FutureWarning)\n"
     ]
    },
    {
     "data": {
      "text/plain": [
       "<AxesSubplot:xlabel='rating'>"
      ]
     },
     "execution_count": 25,
     "metadata": {},
     "output_type": "execute_result"
    },
    {
     "data": {
      "image/png": "[encoded data removed]",
      "text/plain": [
       "<Figure size 432x288 with 1 Axes>"
      ]
     },
     "metadata": {
      "needs_background": "light"
     },
     "output_type": "display_data"
    }
   ],
   "source": [
    "rating['rating'].replace({-1: np.nan}).dropna().describe()\n",
    "sb.distplot(rating['rating'], kde = False)"
   ]
  },
  {
   "cell_type": "code",
   "execution_count": 26,
   "metadata": {
    "colab": {
     "base_uri": "https://localhost:8080/",
     "height": 282
    },
    "id": "_aBBRv3r6DbV",
    "outputId": "edd84853-a1cb-4add-a646-a792fb0301d7"
   },
   "outputs": [
    {
     "data": {
      "image/png": "[encoded data removed]",
      "text/plain": [
       "<Figure size 432x288 with 1 Axes>"
      ]
     },
     "metadata": {
      "needs_background": "light"
     },
     "output_type": "display_data"
    }
   ],
   "source": [
    "user_median = rating.groupby('user_id').median()['rating']\n",
    "sb.distplot(user_median, kde = False);\n",
    "overall_median = user_median.median()\n",
    "user_median = dict(user_median.replace({-1 : overall_median}))"
   ]
  },
  {
   "cell_type": "code",
   "execution_count": 27,
   "metadata": {
    "id": "XsGjCfgo6DbV"
   },
   "outputs": [],
   "source": [
    "user_medians = rating['user_id'].apply(lambda x: user_median[x])\n",
    "rating['rating'] = rating['rating'].replace({-1 : np.nan}).fillna(user_medians)\n",
    "rating['rating'] = rating['rating'] / rating['rating'].max() # Normalisasi dengan membagi yang terbesar"
   ]
  },
  {
   "cell_type": "code",
   "execution_count": 28,
   "metadata": {
    "colab": {
     "base_uri": "https://localhost:8080/",
     "height": 280
    },
    "id": "m-qapuPi6DbV",
    "outputId": "bc8c10f1-e597-4dcb-a547-2bc15655d560"
   },
   "outputs": [
    {
     "name": "stderr",
     "output_type": "stream",
     "text": [
      "C:\\Users\\user\\AppData\\Local\\Packages\\PythonSoftwareFoundation.Python.3.8_qbz5n2kfra8p0\\LocalCache\\local-packages\\Python38\\site-packages\\seaborn\\distributions.py:2619: FutureWarning: `distplot` is a deprecated function and will be removed in a future version. Please adapt your code to use either `displot` (a figure-level function with similar flexibility) or `histplot` (an axes-level function for histograms).\n",
      "  warnings.warn(msg, FutureWarning)\n"
     ]
    },
    {
     "data": {
      "image/png": "[encoded data removed]",
      "text/plain": [
       "<Figure size 432x288 with 1 Axes>"
      ]
     },
     "metadata": {
      "needs_background": "light"
     },
     "output_type": "display_data"
    }
   ],
   "source": [
    "# Histogram\n",
    "sb.distplot(rating['rating'], kde = False);"
   ]
  },
  {
   "cell_type": "code",
   "execution_count": 29,
   "metadata": {
    "id": "VFxFG-S96DbV"
   },
   "outputs": [],
   "source": [
    "num_neg = 4\n",
    "user2n_snack = dict(rating.groupby('user_id').count()['food_id'])"
   ]
  },
  {
   "cell_type": "code",
   "execution_count": 30,
   "metadata": {
    "id": "25jzC-l86DbW"
   },
   "outputs": [],
   "source": [
    "#unique user ids\n",
    "all_users = np.sort(rating['user_id'].unique())\n",
    "#unique food ids\n",
    "all_snacks = np.sort(rating['food_id'].unique())\n",
    "n_snacks = len(all_snacks)\n",
    "n_users = len(all_users)\n",
    "\n",
    "@jit\n",
    "def choice_w_exclusions(array, exclude, samples):\n",
    "    max_samples = len(array)-len(exclude)\n",
    "    final_samples = min(samples, max_samples)\n",
    "    possible = np.array(list(set(array) - set(exclude)))\n",
    "    np.random.seed(0)\n",
    "    return np.random.choice(possible, size = final_samples, replace = False)\n",
    "@jit\n",
    "def flat(l):\n",
    "    return [item for sublist in l for item in sublist]"
   ]
  },
  {
   "cell_type": "markdown",
   "metadata": {
    "id": "5e6ogXkR6DbX"
   },
   "source": [
    "## Sample negative entries"
   ]
  },
  {
   "cell_type": "code",
   "execution_count": 31,
   "metadata": {
    "colab": {
     "base_uri": "https://localhost:8080/"
    },
    "id": "-xip-PMX6DbX",
    "outputId": "6f213f6d-f302-46bf-e3ee-74ac15aa08f6"
   },
   "outputs": [
    {
     "name": "stderr",
     "output_type": "stream",
     "text": [
      "C:\\Users\\user\\AppData\\Local\\Packages\\PythonSoftwareFoundation.Python.3.8_qbz5n2kfra8p0\\LocalCache\\local-packages\\Python38\\site-packages\\numba\\core\\ir_utils.py:2139: NumbaPendingDeprecationWarning: \u001b[1m\n",
      "Encountered the use of a type that is scheduled for deprecation: type 'reflected list' found for argument 'exclude' of function 'choice_w_exclusions'.\n",
      "\n",
      "For more information visit https://numba.pydata.org/numba-doc/latest/reference/deprecation.html#deprecation-of-reflection-for-list-and-set-types\n",
      "\u001b[1m\n",
      "File \"C:\\Users\\user\\AppData\\Local\\Temp\\ipykernel_6316\\3743642666.py\", line 8:\u001b[0m\n",
      "\u001b[1m<source missing, REPL/exec in use?>\u001b[0m\n",
      "\u001b[0m\n",
      "  warnings.warn(NumbaPendingDeprecationWarning(msg, loc=loc))\n",
      "C:\\Users\\user\\AppData\\Local\\Packages\\PythonSoftwareFoundation.Python.3.8_qbz5n2kfra8p0\\LocalCache\\local-packages\\Python38\\site-packages\\numba\\core\\ir_utils.py:2139: NumbaPendingDeprecationWarning: \u001b[1m\n",
      "Encountered the use of a type that is scheduled for deprecation: type 'reflected list' found for argument 'l' of function 'flat'.\n",
      "\n",
      "For more information visit https://numba.pydata.org/numba-doc/latest/reference/deprecation.html#deprecation-of-reflection-for-list-and-set-types\n",
      "\u001b[1m\n",
      "File \"C:\\Users\\user\\AppData\\Local\\Temp\\ipykernel_6316\\3743642666.py\", line 15:\u001b[0m\n",
      "\u001b[1m<source missing, REPL/exec in use?>\u001b[0m\n",
      "\u001b[0m\n",
      "  warnings.warn(NumbaPendingDeprecationWarning(msg, loc=loc))\n",
      "C:\\Users\\user\\AppData\\Local\\Temp/ipykernel_6316/3743642666.py:15: NumbaWarning: \u001b[1m\n",
      "Compilation is falling back to object mode WITH looplifting enabled because Function flat failed at nopython mode lowering due to: cannot reflect element of reflected container: reflected list(reflected list(int64)<iv=None>)<iv=None>\n",
      "\u001b[0m\n",
      "  @jit\n",
      "C:\\Users\\user\\AppData\\Local\\Packages\\PythonSoftwareFoundation.Python.3.8_qbz5n2kfra8p0\\LocalCache\\local-packages\\Python38\\site-packages\\numba\\core\\object_mode_passes.py:151: NumbaWarning: \u001b[1mFunction \"flat\" was compiled in object mode without forceobj=True.\n",
      "\u001b[1m\n",
      "File \"C:\\Users\\user\\AppData\\Local\\Temp\\ipykernel_6316\\3743642666.py\", line 15:\u001b[0m\n",
      "\u001b[1m<source missing, REPL/exec in use?>\u001b[0m\n",
      "\u001b[0m\n",
      "  warnings.warn(errors.NumbaWarning(warn_msg,\n",
      "C:\\Users\\user\\AppData\\Local\\Packages\\PythonSoftwareFoundation.Python.3.8_qbz5n2kfra8p0\\LocalCache\\local-packages\\Python38\\site-packages\\numba\\core\\object_mode_passes.py:161: NumbaDeprecationWarning: \u001b[1m\n",
      "Fall-back from the nopython compilation path to the object mode compilation path has been detected, this is deprecated behaviour.\n",
      "\n",
      "For more information visit https://numba.pydata.org/numba-doc/latest/reference/deprecation.html#deprecation-of-object-mode-fall-back-behaviour-when-using-jit\n",
      "\u001b[1m\n",
      "File \"C:\\Users\\user\\AppData\\Local\\Temp\\ipykernel_6316\\3743642666.py\", line 15:\u001b[0m\n",
      "\u001b[1m<source missing, REPL/exec in use?>\u001b[0m\n",
      "\u001b[0m\n",
      "  warnings.warn(errors.NumbaDeprecationWarning(msg,\n",
      "C:\\Users\\user\\AppData\\Local\\Packages\\PythonSoftwareFoundation.Python.3.8_qbz5n2kfra8p0\\LocalCache\\local-packages\\Python38\\site-packages\\numba\\core\\ir_utils.py:2139: NumbaPendingDeprecationWarning: \u001b[1m\n",
      "Encountered the use of a type that is scheduled for deprecation: type 'reflected list' found for argument 'l' of function 'flat'.\n",
      "\n",
      "For more information visit https://numba.pydata.org/numba-doc/latest/reference/deprecation.html#deprecation-of-reflection-for-list-and-set-types\n",
      "\u001b[1m\n",
      "File \"C:\\Users\\user\\AppData\\Local\\Temp\\ipykernel_6316\\3743642666.py\", line 15:\u001b[0m\n",
      "\u001b[1m<source missing, REPL/exec in use?>\u001b[0m\n",
      "\u001b[0m\n",
      "  warnings.warn(NumbaPendingDeprecationWarning(msg, loc=loc))\n",
      "C:\\Users\\user\\AppData\\Local\\Packages\\PythonSoftwareFoundation.Python.3.8_qbz5n2kfra8p0\\LocalCache\\local-packages\\Python38\\site-packages\\numba\\core\\ir_utils.py:2139: NumbaPendingDeprecationWarning: \u001b[1m\n",
      "Encountered the use of a type that is scheduled for deprecation: type 'reflected list' found for argument 'l' of function 'flat'.\n",
      "\n",
      "For more information visit https://numba.pydata.org/numba-doc/latest/reference/deprecation.html#deprecation-of-reflection-for-list-and-set-types\n",
      "\u001b[1m\n",
      "File \"C:\\Users\\user\\AppData\\Local\\Temp\\ipykernel_6316\\3743642666.py\", line 15:\u001b[0m\n",
      "\u001b[1m<source missing, REPL/exec in use?>\u001b[0m\n",
      "\u001b[0m\n",
      "  warnings.warn(NumbaPendingDeprecationWarning(msg, loc=loc))\n",
      "C:\\Users\\user\\AppData\\Local\\Temp/ipykernel_6316/3743642666.py:15: NumbaWarning: \u001b[1m\n",
      "Compilation is falling back to object mode WITH looplifting enabled because Function flat failed at nopython mode lowering due to: cannot reflect element of reflected container: reflected list(reflected list(float64)<iv=None>)<iv=None>\n",
      "\u001b[0m\n",
      "  @jit\n",
      "C:\\Users\\user\\AppData\\Local\\Packages\\PythonSoftwareFoundation.Python.3.8_qbz5n2kfra8p0\\LocalCache\\local-packages\\Python38\\site-packages\\numba\\core\\object_mode_passes.py:151: NumbaWarning: \u001b[1mFunction \"flat\" was compiled in object mode without forceobj=True.\n",
      "\u001b[1m\n",
      "File \"C:\\Users\\user\\AppData\\Local\\Temp\\ipykernel_6316\\3743642666.py\", line 15:\u001b[0m\n",
      "\u001b[1m<source missing, REPL/exec in use?>\u001b[0m\n",
      "\u001b[0m\n",
      "  warnings.warn(errors.NumbaWarning(warn_msg,\n",
      "C:\\Users\\user\\AppData\\Local\\Packages\\PythonSoftwareFoundation.Python.3.8_qbz5n2kfra8p0\\LocalCache\\local-packages\\Python38\\site-packages\\numba\\core\\object_mode_passes.py:161: NumbaDeprecationWarning: \u001b[1m\n",
      "Fall-back from the nopython compilation path to the object mode compilation path has been detected, this is deprecated behaviour.\n",
      "\n",
      "For more information visit https://numba.pydata.org/numba-doc/latest/reference/deprecation.html#deprecation-of-object-mode-fall-back-behaviour-when-using-jit\n",
      "\u001b[1m\n",
      "File \"C:\\Users\\user\\AppData\\Local\\Temp\\ipykernel_6316\\3743642666.py\", line 15:\u001b[0m\n",
      "\u001b[1m<source missing, REPL/exec in use?>\u001b[0m\n",
      "\u001b[0m\n",
      "  warnings.warn(errors.NumbaDeprecationWarning(msg,\n"
     ]
    }
   ],
   "source": [
    "neg_user_id = []\n",
    "neg_snack_id = []\n",
    "neg_rating = []\n",
    "\n",
    "for user in all_users:\n",
    "    #Pengecualian food ids untuk user id spesifik\n",
    "    exclude = list(rating[rating['user_id'] == user]['food_id'])\n",
    "    sampled_snack_id = choice_w_exclusions(all_snacks, exclude, len(exclude) * num_neg)\n",
    "    \n",
    "    neg_user_id.append([user] * len(sampled_snack_id))\n",
    "    neg_snack_id.append(sampled_snack_id)\n",
    "    neg_rating.append([0.] * len(sampled_snack_id))\n",
    "    \n",
    "neg_user_id = flat(neg_user_id)\n",
    "neg_snack_id = flat(neg_snack_id)\n",
    "neg_rating = flat(neg_rating)"
   ]
  },
  {
   "cell_type": "code",
   "execution_count": 32,
   "metadata": {
    "id": "EVzKMmsH6DbX"
   },
   "outputs": [],
   "source": [
    "negatives = pd.DataFrame({'user_id': neg_user_id,\n",
    "                          'food_id': neg_snack_id,\n",
    "                          'rating': neg_rating})\n",
    "data = pd.concat([rating, negatives], ignore_index = True)"
   ]
  },
  {
   "cell_type": "code",
   "execution_count": 33,
   "metadata": {
    "colab": {
     "base_uri": "https://localhost:8080/"
    },
    "id": "_ub3z3g36DbX",
    "outputId": "902a30ec-5c10-4824-86ff-f9a074dc5fb7"
   },
   "outputs": [
    {
     "name": "stdout",
     "output_type": "stream",
     "text": [
      "<class 'pandas.core.frame.DataFrame'>\n",
      "RangeIndex: 5238631 entries, 0 to 5238630\n",
      "Data columns (total 3 columns):\n",
      " #   Column   Dtype  \n",
      "---  ------   -----  \n",
      " 0   user_id  int64  \n",
      " 1   food_id  int64  \n",
      " 2   rating   float64\n",
      "dtypes: float64(1), int64(2)\n",
      "memory usage: 119.9 MB\n"
     ]
    }
   ],
   "source": [
    "data.info()"
   ]
  },
  {
   "cell_type": "code",
   "execution_count": 34,
   "metadata": {
    "id": "f5jK0xH86DbY"
   },
   "outputs": [],
   "source": [
    "snack_df['features'] = snack_df['features_food_genre'] + snack_df['features_food_type']\n",
    "snack_df['features'] = snack_df['features'].apply(np.array)\n",
    "\n",
    "n_feats = len(snack_df['features'].iloc[0])\n",
    "\n",
    "data = data.join(snack_df['features'], on = 'food_id').dropna()"
   ]
  },
  {
   "cell_type": "code",
   "execution_count": 35,
   "metadata": {
    "colab": {
     "base_uri": "https://localhost:8080/",
     "height": 424
    },
    "id": "YQuoQ2O36DbY",
    "outputId": "94056ab5-1e2a-4138-d931-8b362b684fa1"
   },
   "outputs": [
    {
     "data": {
      "text/html": [
       "<div>\n",
       "<style scoped>\n",
       "    .dataframe tbody tr th:only-of-type {\n",
       "        vertical-align: middle;\n",
       "    }\n",
       "\n",
       "    .dataframe tbody tr th {\n",
       "        vertical-align: top;\n",
       "    }\n",
       "\n",
       "    .dataframe thead th {\n",
       "        text-align: right;\n",
       "    }\n",
       "</style>\n",
       "<table border=\"1\" class=\"dataframe\">\n",
       "  <thead>\n",
       "    <tr style=\"text-align: right;\">\n",
       "      <th></th>\n",
       "      <th>user_id</th>\n",
       "      <th>food_id</th>\n",
       "      <th>rating</th>\n",
       "      <th>features</th>\n",
       "    </tr>\n",
       "  </thead>\n",
       "  <tbody>\n",
       "    <tr>\n",
       "      <th>0</th>\n",
       "      <td>8177</td>\n",
       "      <td>2890</td>\n",
       "      <td>0.8</td>\n",
       "      <td>[0.0, 1.0, 0.0, 0.0, 0.0, 0.0, 0.0, 0.0, 0.0, ...</td>\n",
       "    </tr>\n",
       "    <tr>\n",
       "      <th>1</th>\n",
       "      <td>2642</td>\n",
       "      <td>5277</td>\n",
       "      <td>0.8</td>\n",
       "      <td>[0.0, 0.0, 1.0, 0.0, 0.0, 0.0, 0.0, 0.0, 0.0, ...</td>\n",
       "    </tr>\n",
       "    <tr>\n",
       "      <th>2</th>\n",
       "      <td>1729</td>\n",
       "      <td>10321</td>\n",
       "      <td>0.8</td>\n",
       "      <td>[0.0, 0.0, 0.0, 0.0, 0.0, 0.0, 0.0, 0.0, 0.0, ...</td>\n",
       "    </tr>\n",
       "    <tr>\n",
       "      <th>3</th>\n",
       "      <td>8382</td>\n",
       "      <td>228</td>\n",
       "      <td>0.7</td>\n",
       "      <td>[0.0, 0.0, 0.0, 0.0, 0.0, 0.0, 0.0, 0.0, 0.0, ...</td>\n",
       "    </tr>\n",
       "    <tr>\n",
       "      <th>4</th>\n",
       "      <td>8270</td>\n",
       "      <td>4038</td>\n",
       "      <td>0.9</td>\n",
       "      <td>[0.0, 0.0, 0.0, 0.0, 0.0, 0.0, 0.0, 0.0, 0.0, ...</td>\n",
       "    </tr>\n",
       "    <tr>\n",
       "      <th>...</th>\n",
       "      <td>...</td>\n",
       "      <td>...</td>\n",
       "      <td>...</td>\n",
       "      <td>...</td>\n",
       "    </tr>\n",
       "    <tr>\n",
       "      <th>5238625</th>\n",
       "      <td>10093</td>\n",
       "      <td>434</td>\n",
       "      <td>0.0</td>\n",
       "      <td>[0.0, 0.0, 0.0, 0.0, 0.0, 0.0, 0.0, 0.0, 0.0, ...</td>\n",
       "    </tr>\n",
       "    <tr>\n",
       "      <th>5238626</th>\n",
       "      <td>10093</td>\n",
       "      <td>943</td>\n",
       "      <td>0.0</td>\n",
       "      <td>[0.0, 0.0, 1.0, 0.0, 0.0, 0.0, 0.0, 0.0, 0.0, ...</td>\n",
       "    </tr>\n",
       "    <tr>\n",
       "      <th>5238628</th>\n",
       "      <td>10093</td>\n",
       "      <td>2508</td>\n",
       "      <td>0.0</td>\n",
       "      <td>[0.0, 0.0, 0.0, 0.0, 0.0, 0.0, 0.0, 0.0, 0.0, ...</td>\n",
       "    </tr>\n",
       "    <tr>\n",
       "      <th>5238629</th>\n",
       "      <td>10093</td>\n",
       "      <td>12231</td>\n",
       "      <td>0.0</td>\n",
       "      <td>[0.0, 0.0, 0.0, 0.0, 0.0, 0.0, 0.0, 0.0, 0.0, ...</td>\n",
       "    </tr>\n",
       "    <tr>\n",
       "      <th>5238630</th>\n",
       "      <td>10093</td>\n",
       "      <td>1502</td>\n",
       "      <td>0.0</td>\n",
       "      <td>[0.0, 0.0, 1.0, 0.0, 0.0, 0.0, 0.0, 0.0, 0.0, ...</td>\n",
       "    </tr>\n",
       "  </tbody>\n",
       "</table>\n",
       "<p>3689455 rows × 4 columns</p>\n",
       "</div>"
      ],
      "text/plain": [
       "         user_id  food_id  rating  \\\n",
       "0           8177     2890     0.8   \n",
       "1           2642     5277     0.8   \n",
       "2           1729    10321     0.8   \n",
       "3           8382      228     0.7   \n",
       "4           8270     4038     0.9   \n",
       "...          ...      ...     ...   \n",
       "5238625    10093      434     0.0   \n",
       "5238626    10093      943     0.0   \n",
       "5238628    10093     2508     0.0   \n",
       "5238629    10093    12231     0.0   \n",
       "5238630    10093     1502     0.0   \n",
       "\n",
       "                                                  features  \n",
       "0        [0.0, 1.0, 0.0, 0.0, 0.0, 0.0, 0.0, 0.0, 0.0, ...  \n",
       "1        [0.0, 0.0, 1.0, 0.0, 0.0, 0.0, 0.0, 0.0, 0.0, ...  \n",
       "2        [0.0, 0.0, 0.0, 0.0, 0.0, 0.0, 0.0, 0.0, 0.0, ...  \n",
       "3        [0.0, 0.0, 0.0, 0.0, 0.0, 0.0, 0.0, 0.0, 0.0, ...  \n",
       "4        [0.0, 0.0, 0.0, 0.0, 0.0, 0.0, 0.0, 0.0, 0.0, ...  \n",
       "...                                                    ...  \n",
       "5238625  [0.0, 0.0, 0.0, 0.0, 0.0, 0.0, 0.0, 0.0, 0.0, ...  \n",
       "5238626  [0.0, 0.0, 1.0, 0.0, 0.0, 0.0, 0.0, 0.0, 0.0, ...  \n",
       "5238628  [0.0, 0.0, 0.0, 0.0, 0.0, 0.0, 0.0, 0.0, 0.0, ...  \n",
       "5238629  [0.0, 0.0, 0.0, 0.0, 0.0, 0.0, 0.0, 0.0, 0.0, ...  \n",
       "5238630  [0.0, 0.0, 1.0, 0.0, 0.0, 0.0, 0.0, 0.0, 0.0, ...  \n",
       "\n",
       "[3689455 rows x 4 columns]"
      ]
     },
     "execution_count": 35,
     "metadata": {},
     "output_type": "execute_result"
    }
   ],
   "source": [
    "data"
   ]
  },
  {
   "cell_type": "code",
   "execution_count": 36,
   "metadata": {
    "colab": {
     "base_uri": "https://localhost:8080/"
    },
    "id": "yzQ91NF46DbY",
    "outputId": "a1b5b2fa-13db-4319-9367-584081141b9a"
   },
   "outputs": [
    {
     "data": {
      "text/plain": [
       "33"
      ]
     },
     "execution_count": 36,
     "metadata": {},
     "output_type": "execute_result"
    }
   ],
   "source": [
    "n_feats"
   ]
  },
  {
   "cell_type": "code",
   "execution_count": 37,
   "metadata": {
    "id": "d5thJ1r76DbY"
   },
   "outputs": [],
   "source": [
    "#Membuat dictionary untuk menghubungkan snack id ke item id\n",
    "snack2item_dict = dict(zip(np.sort(all_snacks), list(range(n_snacks))))\n",
    "item2snack_dict = {v: k for k, v in snack2item_dict.items()}\n",
    "\n",
    "def snack2item(s_id):\n",
    "    return snack2item_dict[s_id]\n",
    "\n",
    "def item2snack(i_id):\n",
    "    return item2snack_dict[i_id]\n",
    "                       \n",
    "data['item_id'] = data['food_id'].apply(snack2item)"
   ]
  },
  {
   "cell_type": "code",
   "execution_count": 38,
   "metadata": {
    "colab": {
     "base_uri": "https://localhost:8080/",
     "height": 206
    },
    "id": "WIexeCEM6DbZ",
    "outputId": "813ecb8f-d313-4e47-fead-89de4459c7b6"
   },
   "outputs": [
    {
     "data": {
      "text/html": [
       "<div>\n",
       "<style scoped>\n",
       "    .dataframe tbody tr th:only-of-type {\n",
       "        vertical-align: middle;\n",
       "    }\n",
       "\n",
       "    .dataframe tbody tr th {\n",
       "        vertical-align: top;\n",
       "    }\n",
       "\n",
       "    .dataframe thead th {\n",
       "        text-align: right;\n",
       "    }\n",
       "</style>\n",
       "<table border=\"1\" class=\"dataframe\">\n",
       "  <thead>\n",
       "    <tr style=\"text-align: right;\">\n",
       "      <th></th>\n",
       "      <th>user_id</th>\n",
       "      <th>food_id</th>\n",
       "      <th>rating</th>\n",
       "      <th>features</th>\n",
       "      <th>item_id</th>\n",
       "    </tr>\n",
       "  </thead>\n",
       "  <tbody>\n",
       "    <tr>\n",
       "      <th>0</th>\n",
       "      <td>8177</td>\n",
       "      <td>2890</td>\n",
       "      <td>0.8</td>\n",
       "      <td>[0.0, 1.0, 0.0, 0.0, 0.0, 0.0, 0.0, 0.0, 0.0, ...</td>\n",
       "      <td>2574</td>\n",
       "    </tr>\n",
       "    <tr>\n",
       "      <th>1</th>\n",
       "      <td>2642</td>\n",
       "      <td>5277</td>\n",
       "      <td>0.8</td>\n",
       "      <td>[0.0, 0.0, 1.0, 0.0, 0.0, 0.0, 0.0, 0.0, 0.0, ...</td>\n",
       "      <td>3872</td>\n",
       "    </tr>\n",
       "    <tr>\n",
       "      <th>2</th>\n",
       "      <td>1729</td>\n",
       "      <td>10321</td>\n",
       "      <td>0.8</td>\n",
       "      <td>[0.0, 0.0, 0.0, 0.0, 0.0, 0.0, 0.0, 0.0, 0.0, ...</td>\n",
       "      <td>5394</td>\n",
       "    </tr>\n",
       "    <tr>\n",
       "      <th>3</th>\n",
       "      <td>8382</td>\n",
       "      <td>228</td>\n",
       "      <td>0.7</td>\n",
       "      <td>[0.0, 0.0, 0.0, 0.0, 0.0, 0.0, 0.0, 0.0, 0.0, ...</td>\n",
       "      <td>203</td>\n",
       "    </tr>\n",
       "    <tr>\n",
       "      <th>4</th>\n",
       "      <td>8270</td>\n",
       "      <td>4038</td>\n",
       "      <td>0.9</td>\n",
       "      <td>[0.0, 0.0, 0.0, 0.0, 0.0, 0.0, 0.0, 0.0, 0.0, ...</td>\n",
       "      <td>3325</td>\n",
       "    </tr>\n",
       "  </tbody>\n",
       "</table>\n",
       "</div>"
      ],
      "text/plain": [
       "   user_id  food_id  rating  \\\n",
       "0     8177     2890     0.8   \n",
       "1     2642     5277     0.8   \n",
       "2     1729    10321     0.8   \n",
       "3     8382      228     0.7   \n",
       "4     8270     4038     0.9   \n",
       "\n",
       "                                            features  item_id  \n",
       "0  [0.0, 1.0, 0.0, 0.0, 0.0, 0.0, 0.0, 0.0, 0.0, ...     2574  \n",
       "1  [0.0, 0.0, 1.0, 0.0, 0.0, 0.0, 0.0, 0.0, 0.0, ...     3872  \n",
       "2  [0.0, 0.0, 0.0, 0.0, 0.0, 0.0, 0.0, 0.0, 0.0, ...     5394  \n",
       "3  [0.0, 0.0, 0.0, 0.0, 0.0, 0.0, 0.0, 0.0, 0.0, ...      203  \n",
       "4  [0.0, 0.0, 0.0, 0.0, 0.0, 0.0, 0.0, 0.0, 0.0, ...     3325  "
      ]
     },
     "execution_count": 38,
     "metadata": {},
     "output_type": "execute_result"
    }
   ],
   "source": [
    "data.head()"
   ]
  },
  {
   "cell_type": "code",
   "execution_count": 39,
   "metadata": {
    "colab": {
     "base_uri": "https://localhost:8080/"
    },
    "id": "FR5k9Erh6DbZ",
    "outputId": "1366511c-fc15-4ea1-b242-ff56ca9e7140"
   },
   "outputs": [
    {
     "data": {
      "text/plain": [
       "(3689455, 5)"
      ]
     },
     "execution_count": 39,
     "metadata": {},
     "output_type": "execute_result"
    }
   ],
   "source": [
    "data.shape"
   ]
  },
  {
   "cell_type": "code",
   "execution_count": 40,
   "metadata": {
    "id": "cAo-QBEJ6DbZ"
   },
   "outputs": [],
   "source": [
    "x0 = data['user_id'].to_numpy()\n",
    "x1 =data['item_id'].to_numpy()\n",
    "x2 = np.stack(data['features'].to_numpy())\n",
    "y = data['rating'].to_numpy()\n",
    "\n",
    "(x0_train, x0_val,\n",
    " x1_train, x1_val,\n",
    " x2_train, x2_val,\n",
    " y_train, y_val) = train_test_split(x0, x1, x2, y,\n",
    "                                    test_size = 0.1,\n",
    "                                    random_state = 42)\n",
    "\n",
    "\n",
    "x_train = [x0_train, x1_train, x2_train]\n",
    "x_val = [x0_val, x1_val, x2_val]"
   ]
  },
  {
   "cell_type": "code",
   "execution_count": 41,
   "metadata": {
    "colab": {
     "base_uri": "https://localhost:8080/"
    },
    "id": "f7YJiPu16Dba",
    "outputId": "b56973dd-c5c2-4a0e-d693-c18f811cbf34"
   },
   "outputs": [
    {
     "data": {
      "text/plain": [
       "[array([3375, 1275, 5529, ..., 5287, 6747, 5254], dtype=int64),\n",
       " array([3730, 5091, 2231, ...,   87,  234,  244], dtype=int64),\n",
       " array([[0., 0., 0., ..., 0., 1., 0.],\n",
       "        [0., 0., 1., ..., 0., 0., 0.],\n",
       "        [0., 0., 0., ..., 0., 0., 0.],\n",
       "        ...,\n",
       "        [0., 0., 0., ..., 0., 1., 0.],\n",
       "        [0., 0., 1., ..., 0., 0., 0.],\n",
       "        [0., 0., 1., ..., 0., 0., 0.]])]"
      ]
     },
     "execution_count": 41,
     "metadata": {},
     "output_type": "execute_result"
    }
   ],
   "source": [
    "x_train"
   ]
  },
  {
   "cell_type": "code",
   "execution_count": 42,
   "metadata": {
    "colab": {
     "base_uri": "https://localhost:8080/"
    },
    "id": "wNf2ynD06Dbb",
    "outputId": "135443f6-0a2a-4801-da8b-e22c95185be5"
   },
   "outputs": [
    {
     "data": {
      "text/plain": [
       "[array([8883, 2755, 7013, ..., 4869, 6889, 9000], dtype=int64),\n",
       " array([4366, 3335, 3516, ..., 3161, 5637, 4657], dtype=int64),\n",
       " array([[0., 0., 1., ..., 0., 0., 0.],\n",
       "        [0., 0., 1., ..., 0., 0., 0.],\n",
       "        [0., 0., 1., ..., 0., 0., 0.],\n",
       "        ...,\n",
       "        [0., 0., 0., ..., 0., 0., 0.],\n",
       "        [0., 0., 1., ..., 0., 0., 0.],\n",
       "        [0., 0., 0., ..., 0., 0., 0.]])]"
      ]
     },
     "execution_count": 42,
     "metadata": {},
     "output_type": "execute_result"
    }
   ],
   "source": [
    "x_val"
   ]
  },
  {
   "cell_type": "markdown",
   "metadata": {
    "id": "7jY0hBbVnftF"
   },
   "source": [
    "'''\n",
    "Implementasi model\n",
    "> [Sangat berdasarkan [Neural Collaborative Filtering paper repo](https://github.com/hexiangnan/neural_collaborative_filtering)]\n",
    "\n",
    "Namun, model kami meningkatkan model referensi dengan menyertakan informasi fitur makanan ringan!\n",
    "'''"
   ]
  },
  {
   "cell_type": "markdown",
   "metadata": {},
   "source": [
    "## **Membangun Model Neural Matric Factorization (NeuMF)**"
   ]
  },
  {
   "cell_type": "code",
   "execution_count": 43,
   "metadata": {
    "id": "GPrlYl8L6Dbb"
   },
   "outputs": [],
   "source": [
    "def get_model(num_users, num_items, num_item_feats, mf_dim, layers = [64, 32, 16, 8]):\n",
    "    user_input = Input(shape=(1,), dtype='int32', name = 'user_input')\n",
    "    item_input = Input(shape=(1,), dtype='int32', name = 'item_input')\n",
    "    feats_input = Input(shape=(num_item_feats,), dtype='float32', name = 'feats_input')\n",
    "\n",
    "    # User&Item Embeddings for Matrix Factorization\n",
    "    MF_Embedding_User = Embedding(input_dim = num_users+1, output_dim = mf_dim,\n",
    "                                  name = 'user_embedding',\n",
    "                                  embeddings_initializer = RandomNormal(stddev=0.001),\n",
    "                                  input_length = 1)\n",
    "    MF_Embedding_Item = Embedding(input_dim = num_items+1, output_dim = mf_dim,\n",
    "                                  name = 'item_embedding',\n",
    "                                  embeddings_initializer = RandomNormal(stddev=0.001),\n",
    "                                  input_length = 1)\n",
    "    \n",
    "    # User&Item Embeddings for MLP part\n",
    "    MLP_Embedding_User = Embedding(input_dim = num_users+1, output_dim = int(layers[0] / 2),\n",
    "                                   name = 'mlp_embedding_user',\n",
    "                                   embeddings_initializer = RandomNormal(stddev=0.001),\n",
    "                                   input_length = 1)\n",
    "    MLP_Embedding_Item = Embedding(input_dim = num_items+1, output_dim = int(layers[0] / 2),\n",
    "                                   name = 'mlp_embedding_item',\n",
    "                                   embeddings_initializer = RandomNormal(stddev=0.001),\n",
    "                                   input_length = 1) \n",
    "    \n",
    "    mf_user_latent = Flatten()(MF_Embedding_User(user_input))\n",
    "    mf_item_latent = Flatten()(MF_Embedding_Item(item_input))\n",
    "    mf_vector = Multiply()([mf_user_latent, mf_item_latent])\n",
    "\n",
    "    # MLP part with item features\n",
    "    mlp_user_latent = Flatten()(MLP_Embedding_User(user_input))\n",
    "    mlp_item_latent = Flatten()(MLP_Embedding_Item(item_input))\n",
    "    \n",
    "    mlp_vector = Concatenate()([mlp_user_latent, mlp_item_latent, feats_input])\n",
    "    for l in layers:\n",
    "        layer = Dense(l, activation='relu')\n",
    "        mlp_vector = layer(mlp_vector)\n",
    "\n",
    "    # Concatenate MF and MLP parts\n",
    "    predict_vector = Concatenate()([mf_vector, mlp_vector])\n",
    "    \n",
    "    # Final prediction layer\n",
    "    prediction = Dense(1, activation = 'sigmoid',\n",
    "                       kernel_initializer = 'lecun_uniform',\n",
    "                       name = 'prediction')(predict_vector)\n",
    "    \n",
    "    model = Model(inputs = [user_input, item_input, feats_input], outputs = prediction)\n",
    "    return model"
   ]
  },
  {
   "cell_type": "code",
   "execution_count": 44,
   "metadata": {
    "id": "Ic4OpkKq6Dbb"
   },
   "outputs": [],
   "source": [
    "learning_rate = 0.001\n",
    "batch_size = 256\n",
    "n_epochs = 3\n",
    "mf_dim = 15\n",
    "layers = [128,64, 32, 16, 8]"
   ]
  },
  {
   "cell_type": "code",
   "execution_count": 45,
   "metadata": {
    "colab": {
     "base_uri": "https://localhost:8080/"
    },
    "id": "PqK613m46Dbc",
    "outputId": "dea5740f-4acb-4c34-d580-9dfd8514c6e0"
   },
   "outputs": [
    {
     "name": "stderr",
     "output_type": "stream",
     "text": [
      "C:\\Users\\user\\AppData\\Local\\Packages\\PythonSoftwareFoundation.Python.3.8_qbz5n2kfra8p0\\LocalCache\\local-packages\\Python38\\site-packages\\keras\\optimizer_v2\\adam.py:105: UserWarning: The `lr` argument is deprecated, use `learning_rate` instead.\n",
      "  super(Adam, self).__init__(name, **kwargs)\n"
     ]
    }
   ],
   "source": [
    "model = get_model(n_users, n_snacks, n_feats, mf_dim, layers)\n",
    "model.compile(optimizer = Adam(lr = learning_rate), loss = 'mean_squared_logarithmic_error')"
   ]
  },
  {
   "cell_type": "code",
   "execution_count": 46,
   "metadata": {
    "colab": {
     "base_uri": "https://localhost:8080/"
    },
    "id": "58gPZwlo6Dbc",
    "outputId": "4b50353a-e770-4723-b0d4-a66174eeb5c1"
   },
   "outputs": [
    {
     "name": "stdout",
     "output_type": "stream",
     "text": [
      "Epoch 1/3\n",
      "12971/12971 [==============================] - 167s 13ms/step - loss: 0.0270 - val_loss: 0.0233\n",
      "Epoch 2/3\n",
      "12971/12971 [==============================] - 171s 13ms/step - loss: 0.0210 - val_loss: 0.0214\n",
      "Epoch 3/3\n",
      "12971/12971 [==============================] - 171s 13ms/step - loss: 0.0188 - val_loss: 0.0209\n"
     ]
    }
   ],
   "source": [
    "hist = model.fit(x = x_train, y = y_train, validation_data = (x_val, y_val),\n",
    "                 batch_size = batch_size, epochs = n_epochs, verbose = True, shuffle = True)"
   ]
  },
  {
   "cell_type": "code",
   "execution_count": 47,
   "metadata": {
    "colab": {
     "base_uri": "https://localhost:8080/",
     "height": 295
    },
    "id": "VB6bjwQQ6Dbc",
    "outputId": "5f5f778a-a8e5-4bfb-ed66-7bc0a3c2690b"
   },
   "outputs": [
    {
     "data": {
      "image/png": "[encoded data removed]",
      "text/plain": [
       "<Figure size 432x288 with 1 Axes>"
      ]
     },
     "metadata": {
      "needs_background": "light"
     },
     "output_type": "display_data"
    }
   ],
   "source": [
    "plt.plot(hist.history['loss'])\n",
    "plt.plot(hist.history['val_loss'])\n",
    "plt.title('Model loss')\n",
    "plt.ylabel('Loss')\n",
    "plt.xlabel('Epoch')\n",
    "plt.legend(['Train', 'Eval'], loc='upper right')\n",
    "plt.show()\n"
   ]
  },
  {
   "cell_type": "markdown",
   "metadata": {},
   "source": [
    "## **Menyimpan model dengan format HDF5 ke folder static**"
   ]
  },
  {
   "cell_type": "code",
   "execution_count": 50,
   "metadata": {},
   "outputs": [],
   "source": [
    "# Menyimpan model dengan format HDF5 ke folder static\n",
    "model.save(\"../static/model.h5\")\n"
   ]
  }
 ],
 "metadata": {
  "accelerator": "GPU",
  "colab": {
   "collapsed_sections": [],
   "name": "NCF.ipynb",
   "provenance": []
  },
  "kernelspec": {
   "display_name": "Python 3 (ipykernel)",
   "language": "python",
   "name": "python3"
  },
  "language_info": {
   "codemirror_mode": {
    "name": "ipython",
    "version": 3
   },
   "file_extension": ".py",
   "mimetype": "text/x-python",
   "name": "python",
   "nbconvert_exporter": "python",
   "pygments_lexer": "ipython3",
   "version": "3.8.10"
  }
 },
 "nbformat": 4,
 "nbformat_minor": 1
}
